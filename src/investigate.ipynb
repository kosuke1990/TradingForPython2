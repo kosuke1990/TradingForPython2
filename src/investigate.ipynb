{
 "cells": [
  {
   "cell_type": "code",
   "execution_count": 1,
   "metadata": {},
   "outputs": [],
   "source": [
    "conf_ = {\"host\": \"localhost\",\n",
    "         \"port\": 27017,\n",
    "         \"username\": \"root\",\n",
    "         \"password\": \"example\"\n",
    "         }"
   ]
  },
  {
   "cell_type": "code",
   "execution_count": 2,
   "metadata": {},
   "outputs": [],
   "source": [
    "from pymongo import MongoClient\n",
    "import pandas as pd\n",
    "\n",
    "client = MongoClient(host=conf_[\"host\"], port=conf_[\"port\"], username=conf_[\"username\"], password=conf_[\"password\"])\n",
    "db = client['ticker']\n"
   ]
  },
  {
   "cell_type": "code",
   "execution_count": 3,
   "metadata": {},
   "outputs": [],
   "source": [
    "co_BTC_JPY = db['BTC_JPY']\n",
    "co_ETH_BTC = db['ETH_BTC']\n",
    "co_ETH_JPY = db['ETH_JPY']\n",
    "df_co_BTC_JPY = pd.DataFrame(co_BTC_JPY.find())\n",
    "df_co_ETH_BTC = pd.DataFrame(co_ETH_BTC.find())\n",
    "df_co_ETH_JPY = pd.DataFrame(co_ETH_JPY.find())\n"
   ]
  },
  {
   "cell_type": "code",
   "execution_count": 4,
   "metadata": {},
   "outputs": [
    {
     "data": {
      "text/html": [
       "<div>\n",
       "<style scoped>\n",
       "    .dataframe tbody tr th:only-of-type {\n",
       "        vertical-align: middle;\n",
       "    }\n",
       "\n",
       "    .dataframe tbody tr th {\n",
       "        vertical-align: top;\n",
       "    }\n",
       "\n",
       "    .dataframe thead th {\n",
       "        text-align: right;\n",
       "    }\n",
       "</style>\n",
       "<table border=\"1\" class=\"dataframe\">\n",
       "  <thead>\n",
       "    <tr style=\"text-align: right;\">\n",
       "      <th></th>\n",
       "      <th>_id</th>\n",
       "      <th>product_code</th>\n",
       "      <th>state</th>\n",
       "      <th>timestamp</th>\n",
       "      <th>tick_id</th>\n",
       "      <th>best_bid</th>\n",
       "      <th>best_ask</th>\n",
       "      <th>best_bid_size</th>\n",
       "      <th>best_ask_size</th>\n",
       "      <th>total_bid_depth</th>\n",
       "      <th>total_ask_depth</th>\n",
       "      <th>market_bid_size</th>\n",
       "      <th>market_ask_size</th>\n",
       "      <th>ltp</th>\n",
       "      <th>volume</th>\n",
       "      <th>volume_by_product</th>\n",
       "      <th>inserted_time</th>\n",
       "    </tr>\n",
       "  </thead>\n",
       "  <tbody>\n",
       "    <tr>\n",
       "      <th>0</th>\n",
       "      <td>62f5ca1e329c3109f099814b</td>\n",
       "      <td>BTC_JPY</td>\n",
       "      <td>RUNNING</td>\n",
       "      <td>2022-08-12T03:33:49.748253Z</td>\n",
       "      <td>12944018</td>\n",
       "      <td>3198065</td>\n",
       "      <td>3199916</td>\n",
       "      <td>0.025</td>\n",
       "      <td>0.120</td>\n",
       "      <td>624.994429</td>\n",
       "      <td>547.790649</td>\n",
       "      <td>0</td>\n",
       "      <td>0</td>\n",
       "      <td>3198969</td>\n",
       "      <td>3379.098527</td>\n",
       "      <td>3379.098527</td>\n",
       "      <td>1660275230</td>\n",
       "    </tr>\n",
       "    <tr>\n",
       "      <th>1</th>\n",
       "      <td>62f5ca1f329c3109f099814d</td>\n",
       "      <td>BTC_JPY</td>\n",
       "      <td>RUNNING</td>\n",
       "      <td>2022-08-12T03:33:50.5430427Z</td>\n",
       "      <td>12944021</td>\n",
       "      <td>3197401</td>\n",
       "      <td>3199916</td>\n",
       "      <td>0.020</td>\n",
       "      <td>0.120</td>\n",
       "      <td>624.969429</td>\n",
       "      <td>547.500649</td>\n",
       "      <td>0</td>\n",
       "      <td>0</td>\n",
       "      <td>3198969</td>\n",
       "      <td>3379.088527</td>\n",
       "      <td>3379.088527</td>\n",
       "      <td>1660275231</td>\n",
       "    </tr>\n",
       "    <tr>\n",
       "      <th>2</th>\n",
       "      <td>62f5ca20329c3109f099814f</td>\n",
       "      <td>BTC_JPY</td>\n",
       "      <td>RUNNING</td>\n",
       "      <td>2022-08-12T03:33:51.2730079Z</td>\n",
       "      <td>12944034</td>\n",
       "      <td>3198069</td>\n",
       "      <td>3199917</td>\n",
       "      <td>0.014</td>\n",
       "      <td>0.188</td>\n",
       "      <td>625.712634</td>\n",
       "      <td>547.480649</td>\n",
       "      <td>0</td>\n",
       "      <td>0</td>\n",
       "      <td>3198969</td>\n",
       "      <td>3379.088527</td>\n",
       "      <td>3379.088527</td>\n",
       "      <td>1660275232</td>\n",
       "    </tr>\n",
       "    <tr>\n",
       "      <th>3</th>\n",
       "      <td>62f5ca21329c3109f0998151</td>\n",
       "      <td>BTC_JPY</td>\n",
       "      <td>RUNNING</td>\n",
       "      <td>2022-08-12T03:33:52.4904923Z</td>\n",
       "      <td>12944037</td>\n",
       "      <td>3198069</td>\n",
       "      <td>3199917</td>\n",
       "      <td>0.014</td>\n",
       "      <td>0.188</td>\n",
       "      <td>625.422634</td>\n",
       "      <td>547.570649</td>\n",
       "      <td>0</td>\n",
       "      <td>0</td>\n",
       "      <td>3198969</td>\n",
       "      <td>3379.088527</td>\n",
       "      <td>3379.088527</td>\n",
       "      <td>1660275233</td>\n",
       "    </tr>\n",
       "    <tr>\n",
       "      <th>4</th>\n",
       "      <td>62f5ca22329c3109f0998153</td>\n",
       "      <td>BTC_JPY</td>\n",
       "      <td>RUNNING</td>\n",
       "      <td>2022-08-12T03:33:53.267219Z</td>\n",
       "      <td>12944040</td>\n",
       "      <td>3198071</td>\n",
       "      <td>3199917</td>\n",
       "      <td>0.030</td>\n",
       "      <td>0.188</td>\n",
       "      <td>625.477634</td>\n",
       "      <td>547.670649</td>\n",
       "      <td>0</td>\n",
       "      <td>0</td>\n",
       "      <td>3198969</td>\n",
       "      <td>3379.088527</td>\n",
       "      <td>3379.088527</td>\n",
       "      <td>1660275234</td>\n",
       "    </tr>\n",
       "  </tbody>\n",
       "</table>\n",
       "</div>"
      ],
      "text/plain": [
       "                        _id product_code    state  \\\n",
       "0  62f5ca1e329c3109f099814b      BTC_JPY  RUNNING   \n",
       "1  62f5ca1f329c3109f099814d      BTC_JPY  RUNNING   \n",
       "2  62f5ca20329c3109f099814f      BTC_JPY  RUNNING   \n",
       "3  62f5ca21329c3109f0998151      BTC_JPY  RUNNING   \n",
       "4  62f5ca22329c3109f0998153      BTC_JPY  RUNNING   \n",
       "\n",
       "                      timestamp   tick_id  best_bid  best_ask  best_bid_size  \\\n",
       "0   2022-08-12T03:33:49.748253Z  12944018   3198065   3199916          0.025   \n",
       "1  2022-08-12T03:33:50.5430427Z  12944021   3197401   3199916          0.020   \n",
       "2  2022-08-12T03:33:51.2730079Z  12944034   3198069   3199917          0.014   \n",
       "3  2022-08-12T03:33:52.4904923Z  12944037   3198069   3199917          0.014   \n",
       "4   2022-08-12T03:33:53.267219Z  12944040   3198071   3199917          0.030   \n",
       "\n",
       "   best_ask_size  total_bid_depth  total_ask_depth  market_bid_size  \\\n",
       "0          0.120       624.994429       547.790649                0   \n",
       "1          0.120       624.969429       547.500649                0   \n",
       "2          0.188       625.712634       547.480649                0   \n",
       "3          0.188       625.422634       547.570649                0   \n",
       "4          0.188       625.477634       547.670649                0   \n",
       "\n",
       "   market_ask_size      ltp       volume  volume_by_product  inserted_time  \n",
       "0                0  3198969  3379.098527        3379.098527     1660275230  \n",
       "1                0  3198969  3379.088527        3379.088527     1660275231  \n",
       "2                0  3198969  3379.088527        3379.088527     1660275232  \n",
       "3                0  3198969  3379.088527        3379.088527     1660275233  \n",
       "4                0  3198969  3379.088527        3379.088527     1660275234  "
      ]
     },
     "execution_count": 4,
     "metadata": {},
     "output_type": "execute_result"
    }
   ],
   "source": [
    "df_co_BTC_JPY.head()"
   ]
  },
  {
   "cell_type": "code",
   "execution_count": 7,
   "metadata": {},
   "outputs": [],
   "source": [
    "import matplotlib as mpl\n",
    "import matplotlib.pyplot as plt"
   ]
  },
  {
   "cell_type": "code",
   "execution_count": 12,
   "metadata": {},
   "outputs": [
    {
     "data": {
      "text/plain": [
       "[<matplotlib.lines.Line2D at 0xffff551a4a00>]"
      ]
     },
     "execution_count": 12,
     "metadata": {},
     "output_type": "execute_result"
    },
    {
     "data": {
      "image/png": "[encoded data removed]",
      "text/plain": [
       "<Figure size 432x288 with 1 Axes>"
      ]
     },
     "metadata": {
      "needs_background": "light"
     },
     "output_type": "display_data"
    }
   ],
   "source": [
    "x=df_co_BTC_JPY['inserted_time']\n",
    "y=df_co_BTC_JPY['best_bid']\n",
    "plt.plot(x, y)"
   ]
  },
  {
   "cell_type": "code",
   "execution_count": null,
   "metadata": {},
   "outputs": [],
   "source": []
  }
 ],
 "metadata": {
  "kernelspec": {
   "display_name": "Python 3.10.4 64-bit",
   "language": "python",
   "name": "python3"
  },
  "language_info": {
   "codemirror_mode": {
    "name": "ipython",
    "version": 3
   },
   "file_extension": ".py",
   "mimetype": "text/x-python",
   "name": "python",
   "nbconvert_exporter": "python",
   "pygments_lexer": "ipython3",
   "version": "3.10.4"
  },
  "orig_nbformat": 4,
  "vscode": {
   "interpreter": {
    "hash": "949777d72b0d2535278d3dc13498b2535136f6dfe0678499012e853ee9abcab1"
   }
  }
 },
 "nbformat": 4,
 "nbformat_minor": 2
}
