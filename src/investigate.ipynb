{
 "cells": [
  {
   "cell_type": "code",
   "execution_count": 13,
   "metadata": {},
   "outputs": [],
   "source": [
    "conf_ = {\"host\": \"localhost\",\n",
    "         \"port\": 27017,\n",
    "         \"username\": \"root\",\n",
    "         \"password\": \"example\"\n",
    "         }"
   ]
  },
  {
   "cell_type": "code",
   "execution_count": 23,
   "metadata": {},
   "outputs": [],
   "source": [
    "from pymongo import MongoClient\n",
    "import pandas as pd\n",
    "\n",
    "client = MongoClient(host=conf_[\"host\"], port=conf_[\"port\"], username=conf_[\"username\"], password=conf_[\"password\"])\n",
    "db = client['ticker']\n"
   ]
  },
  {
   "cell_type": "code",
   "execution_count": 32,
   "metadata": {},
   "outputs": [],
   "source": [
    "co_BTC_JPY = db['BTC_JPY']\n",
    "#co_ETH_BTC = db['ETH_BTC']\n",
    "#co_ETH_JPY = db['ETH_JPY']\n",
    "df_co_BTC_JPY = pd.DataFrame(co_BTC_JPY.find())\n",
    "#df_co_ETH_BTC = pd.DataFrame(co_ETH_BTC.find())\n",
    "#df_co_ETH_JPY = pd.DataFrame(co_ETH_JPY.find())\n"
   ]
  },
  {
   "cell_type": "code",
   "execution_count": 33,
   "metadata": {},
   "outputs": [
    {
     "data": {
      "text/html": [
       "<div>\n",
       "<style scoped>\n",
       "    .dataframe tbody tr th:only-of-type {\n",
       "        vertical-align: middle;\n",
       "    }\n",
       "\n",
       "    .dataframe tbody tr th {\n",
       "        vertical-align: top;\n",
       "    }\n",
       "\n",
       "    .dataframe thead th {\n",
       "        text-align: right;\n",
       "    }\n",
       "</style>\n",
       "<table border=\"1\" class=\"dataframe\">\n",
       "  <thead>\n",
       "    <tr style=\"text-align: right;\">\n",
       "      <th></th>\n",
       "      <th>_id</th>\n",
       "      <th>product_code</th>\n",
       "      <th>state</th>\n",
       "      <th>timestamp</th>\n",
       "      <th>tick_id</th>\n",
       "      <th>best_bid</th>\n",
       "      <th>best_ask</th>\n",
       "      <th>best_bid_size</th>\n",
       "      <th>best_ask_size</th>\n",
       "      <th>total_bid_depth</th>\n",
       "      <th>total_ask_depth</th>\n",
       "      <th>market_bid_size</th>\n",
       "      <th>market_ask_size</th>\n",
       "      <th>ltp</th>\n",
       "      <th>volume</th>\n",
       "      <th>volume_by_product</th>\n",
       "      <th>inserted_time</th>\n",
       "    </tr>\n",
       "  </thead>\n",
       "  <tbody>\n",
       "    <tr>\n",
       "      <th>0</th>\n",
       "      <td>62f7bb0e3b85090b5a29de9c</td>\n",
       "      <td>BTC_JPY</td>\n",
       "      <td>RUNNING</td>\n",
       "      <td>2022-08-13T14:54:05.7118742Z</td>\n",
       "      <td>13819998</td>\n",
       "      <td>3267729</td>\n",
       "      <td>3269781</td>\n",
       "      <td>0.1</td>\n",
       "      <td>0.22</td>\n",
       "      <td>663.530230</td>\n",
       "      <td>673.204269</td>\n",
       "      <td>0</td>\n",
       "      <td>0</td>\n",
       "      <td>3267987</td>\n",
       "      <td>2329.754144</td>\n",
       "      <td>2329.754144</td>\n",
       "      <td>1660402446</td>\n",
       "    </tr>\n",
       "    <tr>\n",
       "      <th>1</th>\n",
       "      <td>62f7bb0f3b85090b5a29de9e</td>\n",
       "      <td>BTC_JPY</td>\n",
       "      <td>RUNNING</td>\n",
       "      <td>2022-08-13T14:54:06.2928605Z</td>\n",
       "      <td>13820004</td>\n",
       "      <td>3267729</td>\n",
       "      <td>3269781</td>\n",
       "      <td>0.1</td>\n",
       "      <td>0.22</td>\n",
       "      <td>663.630230</td>\n",
       "      <td>673.184169</td>\n",
       "      <td>0</td>\n",
       "      <td>0</td>\n",
       "      <td>3267987</td>\n",
       "      <td>2329.338144</td>\n",
       "      <td>2329.338144</td>\n",
       "      <td>1660402447</td>\n",
       "    </tr>\n",
       "    <tr>\n",
       "      <th>2</th>\n",
       "      <td>62f7bb103b85090b5a29dea0</td>\n",
       "      <td>BTC_JPY</td>\n",
       "      <td>RUNNING</td>\n",
       "      <td>2022-08-13T14:54:07.7575927Z</td>\n",
       "      <td>13820012</td>\n",
       "      <td>3267729</td>\n",
       "      <td>3269781</td>\n",
       "      <td>0.1</td>\n",
       "      <td>0.22</td>\n",
       "      <td>663.630230</td>\n",
       "      <td>673.667779</td>\n",
       "      <td>0</td>\n",
       "      <td>0</td>\n",
       "      <td>3267987</td>\n",
       "      <td>2329.328144</td>\n",
       "      <td>2329.328144</td>\n",
       "      <td>1660402448</td>\n",
       "    </tr>\n",
       "    <tr>\n",
       "      <th>3</th>\n",
       "      <td>62f7bb113b85090b5a29dea2</td>\n",
       "      <td>BTC_JPY</td>\n",
       "      <td>RUNNING</td>\n",
       "      <td>2022-08-13T14:54:08.5481424Z</td>\n",
       "      <td>13820015</td>\n",
       "      <td>3267729</td>\n",
       "      <td>3269781</td>\n",
       "      <td>0.1</td>\n",
       "      <td>0.22</td>\n",
       "      <td>663.630230</td>\n",
       "      <td>673.567779</td>\n",
       "      <td>0</td>\n",
       "      <td>0</td>\n",
       "      <td>3267987</td>\n",
       "      <td>2329.318142</td>\n",
       "      <td>2329.318142</td>\n",
       "      <td>1660402449</td>\n",
       "    </tr>\n",
       "    <tr>\n",
       "      <th>4</th>\n",
       "      <td>62f7bb123b85090b5a29dea4</td>\n",
       "      <td>BTC_JPY</td>\n",
       "      <td>RUNNING</td>\n",
       "      <td>2022-08-13T14:54:09.8255191Z</td>\n",
       "      <td>13820023</td>\n",
       "      <td>3267729</td>\n",
       "      <td>3269781</td>\n",
       "      <td>0.1</td>\n",
       "      <td>0.22</td>\n",
       "      <td>663.620222</td>\n",
       "      <td>673.667779</td>\n",
       "      <td>0</td>\n",
       "      <td>0</td>\n",
       "      <td>3267987</td>\n",
       "      <td>2329.318142</td>\n",
       "      <td>2329.318142</td>\n",
       "      <td>1660402450</td>\n",
       "    </tr>\n",
       "  </tbody>\n",
       "</table>\n",
       "</div>"
      ],
      "text/plain": [
       "                        _id product_code    state  \\\n",
       "0  62f7bb0e3b85090b5a29de9c      BTC_JPY  RUNNING   \n",
       "1  62f7bb0f3b85090b5a29de9e      BTC_JPY  RUNNING   \n",
       "2  62f7bb103b85090b5a29dea0      BTC_JPY  RUNNING   \n",
       "3  62f7bb113b85090b5a29dea2      BTC_JPY  RUNNING   \n",
       "4  62f7bb123b85090b5a29dea4      BTC_JPY  RUNNING   \n",
       "\n",
       "                      timestamp   tick_id  best_bid  best_ask  best_bid_size  \\\n",
       "0  2022-08-13T14:54:05.7118742Z  13819998   3267729   3269781            0.1   \n",
       "1  2022-08-13T14:54:06.2928605Z  13820004   3267729   3269781            0.1   \n",
       "2  2022-08-13T14:54:07.7575927Z  13820012   3267729   3269781            0.1   \n",
       "3  2022-08-13T14:54:08.5481424Z  13820015   3267729   3269781            0.1   \n",
       "4  2022-08-13T14:54:09.8255191Z  13820023   3267729   3269781            0.1   \n",
       "\n",
       "   best_ask_size  total_bid_depth  total_ask_depth  market_bid_size  \\\n",
       "0           0.22       663.530230       673.204269                0   \n",
       "1           0.22       663.630230       673.184169                0   \n",
       "2           0.22       663.630230       673.667779                0   \n",
       "3           0.22       663.630230       673.567779                0   \n",
       "4           0.22       663.620222       673.667779                0   \n",
       "\n",
       "   market_ask_size      ltp       volume  volume_by_product  inserted_time  \n",
       "0                0  3267987  2329.754144        2329.754144     1660402446  \n",
       "1                0  3267987  2329.338144        2329.338144     1660402447  \n",
       "2                0  3267987  2329.328144        2329.328144     1660402448  \n",
       "3                0  3267987  2329.318142        2329.318142     1660402449  \n",
       "4                0  3267987  2329.318142        2329.318142     1660402450  "
      ]
     },
     "execution_count": 33,
     "metadata": {},
     "output_type": "execute_result"
    }
   ],
   "source": [
    "df_co_BTC_JPY.head()"
   ]
  },
  {
   "cell_type": "code",
   "execution_count": 34,
   "metadata": {},
   "outputs": [],
   "source": [
    "import matplotlib as mpl\n",
    "import matplotlib.pyplot as plt"
   ]
  },
  {
   "cell_type": "code",
   "execution_count": 35,
   "metadata": {},
   "outputs": [
    {
     "data": {
      "text/plain": [
       "[<matplotlib.lines.Line2D at 0xffff390da6e0>]"
      ]
     },
     "execution_count": 35,
     "metadata": {},
     "output_type": "execute_result"
    },
    {
     "data": {
      "image/png": "[encoded data removed]",
      "text/plain": [
       "<Figure size 432x288 with 1 Axes>"
      ]
     },
     "metadata": {
      "needs_background": "light"
     },
     "output_type": "display_data"
    }
   ],
   "source": [
    "x=df_co_BTC_JPY['inserted_time']\n",
    "y=df_co_BTC_JPY['best_bid']\n",
    "plt.plot(x, y)"
   ]
  },
  {
   "cell_type": "code",
   "execution_count": null,
   "metadata": {},
   "outputs": [],
   "source": []
  }
 ],
 "metadata": {
  "kernelspec": {
   "display_name": "Python 3.10.4 64-bit",
   "language": "python",
   "name": "python3"
  },
  "language_info": {
   "codemirror_mode": {
    "name": "ipython",
    "version": 3
   },
   "file_extension": ".py",
   "mimetype": "text/x-python",
   "name": "python",
   "nbconvert_exporter": "python",
   "pygments_lexer": "ipython3",
   "version": "3.10.4"
  },
  "orig_nbformat": 4,
  "vscode": {
   "interpreter": {
    "hash": "949777d72b0d2535278d3dc13498b2535136f6dfe0678499012e853ee9abcab1"
   }
  }
 },
 "nbformat": 4,
 "nbformat_minor": 2
}
